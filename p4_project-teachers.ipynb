{
 "cells": [
  {
   "cell_type": "code",
   "execution_count": 5,
   "metadata": {},
   "outputs": [
    {
     "name": "stdout",
     "output_type": "stream",
     "text": [
      "<mysql.connector.connection.MySQLConnection object at 0x03538568>\n"
     ]
    }
   ],
   "source": [
    "import mysql.connector\n",
    "\n",
    "mydb=mysql.connector.connect(\n",
    "    host=\"localhost\",\n",
    "    user=\"root\",\n",
    "    password=\"\",\n",
    "    database='project'\n",
    "    \n",
    ")\n",
    "\n",
    "print(mydb)\n",
    "mycursor=mydb.cursor(buffered=True)"
   ]
  },
  {
   "cell_type": "code",
   "execution_count": 11,
   "metadata": {},
   "outputs": [],
   "source": [
    "def add_marks():\n",
    "    result = mycursor.execute(\"UPDATE student_marks SET QUARTERLY = 450, HALF_YEARLY = 500, ANNUAL = 550 WHERE ID = 8221;\")\n",
    "    print(result)\n",
    "    mydb.commit()"
   ]
  },
  {
   "cell_type": "code",
   "execution_count": 9,
   "metadata": {},
   "outputs": [],
   "source": [
    "def view_fail_details():\n",
    "    mycursor.execute(\"SELECT * FROM student_subjects WHERE MATCHS<35 or SCIENCE<35 or SOCIAL<35 or LANGUAGE<35\");\n",
    "    out=mycursor.fetchall()\n",
    "    from tabulate import tabulate\n",
    "    print(tabulate(out,headers=[i[0] for i in mycursor.description],  tablefmt='psql'))"
   ]
  },
  {
   "cell_type": "code",
   "execution_count": 7,
   "metadata": {},
   "outputs": [],
   "source": [
    "def option_check(option):\n",
    "    if(option=='1'):\n",
    "        add_marks()\n",
    "    elif(option=='2'):\n",
    "        view_fail_details()\n",
    "    else:\n",
    "        print(\"Select correct option\")"
   ]
  },
  {
   "cell_type": "code",
   "execution_count": 10,
   "metadata": {},
   "outputs": [
    {
     "name": "stdout",
     "output_type": "stream",
     "text": [
      "Enter option2\n",
      "2\n",
      "+------+----------+-----------+----------+------------+\n",
      "|   ID |   MATCHS |   SCIENCE |   SOCIAL |   LANGUAGE |\n",
      "|------+----------+-----------+----------+------------|\n",
      "| 8219 |      100 |        87 |       23 |         56 |\n",
      "| 8221 |       67 |        98 |       78 |         34 |\n",
      "| 8223 |       34 |        30 |       90 |         56 |\n",
      "+------+----------+-----------+----------+------------+\n"
     ]
    }
   ],
   "source": [
    "option=input(\"Enter option\")\n",
    "print(option)\n",
    "option_check(option)"
   ]
  },
  {
   "cell_type": "code",
   "execution_count": null,
   "metadata": {},
   "outputs": [],
   "source": []
  }
 ],
 "metadata": {
  "kernelspec": {
   "display_name": "Python 3",
   "language": "python",
   "name": "python3"
  },
  "language_info": {
   "codemirror_mode": {
    "name": "ipython",
    "version": 3
   },
   "file_extension": ".py",
   "mimetype": "text/x-python",
   "name": "python",
   "nbconvert_exporter": "python",
   "pygments_lexer": "ipython3",
   "version": "3.8.3"
  }
 },
 "nbformat": 4,
 "nbformat_minor": 4
}
