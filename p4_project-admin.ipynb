{
 "cells": [
  {
   "cell_type": "code",
   "execution_count": 21,
   "metadata": {},
   "outputs": [
    {
     "name": "stdout",
     "output_type": "stream",
     "text": [
      "<mysql.connector.connection.MySQLConnection object at 0x038B2A48>\n"
     ]
    }
   ],
   "source": [
    "import mysql.connector\n",
    "\n",
    "mydb=mysql.connector.connect(\n",
    "    host=\"localhost\",\n",
    "    user=\"root\",\n",
    "    password=\"\",\n",
    "    database='project'\n",
    "    \n",
    ")\n",
    "\n",
    "print(mydb)\n",
    "mycursor=mydb.cursor(buffered=True)"
   ]
  },
  {
   "cell_type": "code",
   "execution_count": 38,
   "metadata": {},
   "outputs": [],
   "source": [
    "def add_details():\n",
    "    result = mycursor.execute(\"INSERT INTO student_details (ID , NAME , AADHAR_CARD_NUMBER , PARENT_NAME , PHONE_NUMBER , CLASS , SECTION ) VALUES ('7777' , 'vijay' , '45465768980' , 'sekar' , '7583797678' , 'xi' , 'a')\");\n",
    "    print(result)"
   ]
  },
  {
   "cell_type": "code",
   "execution_count": 39,
   "metadata": {},
   "outputs": [],
   "source": [
    "def view_details():\n",
    "    a=input(\"Enter student id\")\n",
    "    mycursor.execute(\"SELECT * FROM student_details WHERE ID={}\".format(a))\n",
    "    out=mycursor.fetchall()\n",
    "    from tabulate import tabulate\n",
    "    print(tabulate(out,headers=[i[0] for i in mycursor.description],  tablefmt='psql'))"
   ]
  },
  {
   "cell_type": "code",
   "execution_count": 40,
   "metadata": {},
   "outputs": [],
   "source": [
    "def update_details():\n",
    "    result = mycursor.execute(\"UPDATE student_details SET NAME = 'Jegan', SECTION = 'a' WHERE ID = 8221;\")\n",
    "    print(result)"
   ]
  },
  {
   "cell_type": "code",
   "execution_count": 41,
   "metadata": {},
   "outputs": [],
   "source": [
    "def delete_details():\n",
    "    result =mycursor.execute(\"DELETE FROM student_details WHERE ID ='8220';\")\n",
    "    print(result)"
   ]
  },
  {
   "cell_type": "code",
   "execution_count": 43,
   "metadata": {},
   "outputs": [],
   "source": [
    "def option_check(option):\n",
    "    if(option=='1'):\n",
    "        add_details()\n",
    "    elif(option=='2'):\n",
    "        view_details()\n",
    "    elif(option=='3'):\n",
    "        update_details()\n",
    "    elif(option=='4'):\n",
    "        delete_details()\n",
    "    else:\n",
    "        print(\"Select correct option\")"
   ]
  },
  {
   "cell_type": "code",
   "execution_count": 44,
   "metadata": {},
   "outputs": [
    {
     "name": "stdout",
     "output_type": "stream",
     "text": [
      "Enter option2\n",
      "2\n",
      "Enter student id8220\n",
      "+------+--------+----------------------+---------------+----------------+---------+-----------+\n",
      "| ID   | NAME   | AADHAR_CARD_NUMBER   | PARENT_NAME   | PHONE_NUMBER   | CLASS   | SECTION   |\n",
      "|------+--------+----------------------+---------------+----------------+---------+-----------|\n",
      "+------+--------+----------------------+---------------+----------------+---------+-----------+\n"
     ]
    }
   ],
   "source": [
    "option=input(\"Enter option\")\n",
    "print(option)\n",
    "option_check(option)"
   ]
  },
  {
   "cell_type": "code",
   "execution_count": null,
   "metadata": {},
   "outputs": [],
   "source": []
  }
 ],
 "metadata": {
  "kernelspec": {
   "display_name": "Python 3",
   "language": "python",
   "name": "python3"
  },
  "language_info": {
   "codemirror_mode": {
    "name": "ipython",
    "version": 3
   },
   "file_extension": ".py",
   "mimetype": "text/x-python",
   "name": "python",
   "nbconvert_exporter": "python",
   "pygments_lexer": "ipython3",
   "version": "3.8.3"
  }
 },
 "nbformat": 4,
 "nbformat_minor": 4
}
